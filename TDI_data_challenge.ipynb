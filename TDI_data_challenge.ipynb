{
  "nbformat": 4,
  "nbformat_minor": 0,
  "metadata": {
    "colab": {
      "provenance": [],
      "authorship_tag": "ABX9TyPPMfssSI2mjs7PJ+Afu2iJ",
      "include_colab_link": true
    },
    "kernelspec": {
      "name": "python3",
      "display_name": "Python 3"
    },
    "language_info": {
      "name": "python"
    }
  },
  "cells": [
    {
      "cell_type": "markdown",
      "metadata": {
        "id": "view-in-github",
        "colab_type": "text"
      },
      "source": [
        "<a href=\"https://colab.research.google.com/github/karema9/pandas-workout-remastered/blob/main/TDI_data_challenge.ipynb\" target=\"_parent\"><img src=\"https://colab.research.google.com/assets/colab-badge.svg\" alt=\"Open In Colab\"/></a>"
      ]
    },
    {
      "cell_type": "markdown",
      "source": [
        "## Madison - Wisconsin City Trees Analysis"
      ],
      "metadata": {
        "id": "Mr4rjgjqDLR7"
      }
    },
    {
      "cell_type": "code",
      "execution_count": 34,
      "metadata": {
        "id": "dSvnGXWgJx_J"
      },
      "outputs": [],
      "source": [
        "import pandas as pd\n",
        "import matplotlib as plt\n",
        "import numpy as np\n"
      ]
    },
    {
      "cell_type": "code",
      "source": [
        "df = pd.read_csv(\"Street_Trees.csv\")"
      ],
      "metadata": {
        "id": "hcnW6wUoKW7t"
      },
      "execution_count": 47,
      "outputs": []
    },
    {
      "cell_type": "code",
      "source": [
        "df.info()"
      ],
      "metadata": {
        "id": "NFdArugOKhW-",
        "colab": {
          "base_uri": "https://localhost:8080/"
        },
        "outputId": "b8928542-a6ea-4efd-e73e-f24503d1ab34"
      },
      "execution_count": 36,
      "outputs": [
        {
          "output_type": "stream",
          "name": "stdout",
          "text": [
            "<class 'pandas.core.frame.DataFrame'>\n",
            "RangeIndex: 76893 entries, 0 to 76892\n",
            "Data columns (total 14 columns):\n",
            " #   Column      Non-Null Count  Dtype  \n",
            "---  ------      --------------  -----  \n",
            " 0   X           76893 non-null  float64\n",
            " 1   Y           76893 non-null  float64\n",
            " 2   OBJECTID    76893 non-null  int64  \n",
            " 3   INSPECT_DT  76893 non-null  object \n",
            " 4   NOTES       76893 non-null  object \n",
            " 5   INV_DATE    76893 non-null  object \n",
            " 6   UNIQUEID    76893 non-null  object \n",
            " 7   SPP_COM     76893 non-null  object \n",
            " 8   SPP_BOT     76893 non-null  object \n",
            " 9   GSSIZE      76891 non-null  object \n",
            " 10  DIAMETER    76893 non-null  float64\n",
            " 11  STATUS      76893 non-null  object \n",
            " 12  TREEGUARD   76893 non-null  object \n",
            " 13  GRATE_SPP   0 non-null      float64\n",
            "dtypes: float64(4), int64(1), object(9)\n",
            "memory usage: 8.2+ MB\n"
          ]
        }
      ]
    },
    {
      "cell_type": "markdown",
      "source": [
        "How many rows are in the dataset?"
      ],
      "metadata": {
        "id": "qnYdbHCevPUl"
      }
    },
    {
      "cell_type": "code",
      "source": [
        "df.shape[0]"
      ],
      "metadata": {
        "colab": {
          "base_uri": "https://localhost:8080/"
        },
        "id": "3eSYXCt3KjHX",
        "outputId": "5bd61759-6794-4059-a9ea-b2fadf786c0f"
      },
      "execution_count": 4,
      "outputs": [
        {
          "output_type": "execute_result",
          "data": {
            "text/plain": [
              "13681"
            ]
          },
          "metadata": {},
          "execution_count": 4
        }
      ]
    },
    {
      "cell_type": "code",
      "source": [
        "df.columns"
      ],
      "metadata": {
        "colab": {
          "base_uri": "https://localhost:8080/"
        },
        "id": "R7OVXjOBKr7l",
        "outputId": "322130bf-dea4-4c3a-dc73-f99082bf7949"
      },
      "execution_count": 5,
      "outputs": [
        {
          "output_type": "execute_result",
          "data": {
            "text/plain": [
              "Index(['X', 'Y', 'OBJECTID', 'INSPECT_DT', 'NOTES', 'INV_DATE', 'UNIQUEID',\n",
              "       'SPP_COM', 'SPP_BOT', 'GSSIZE', 'DIAMETER', 'STATUS', 'TREEGUARD',\n",
              "       'GRATE_SPP'],\n",
              "      dtype='object')"
            ]
          },
          "metadata": {},
          "execution_count": 5
        }
      ]
    },
    {
      "cell_type": "code",
      "source": [
        "df.head(5)"
      ],
      "metadata": {
        "colab": {
          "base_uri": "https://localhost:8080/",
          "height": 330
        },
        "id": "dYCwBej9S05f",
        "outputId": "a73ca6bf-d31e-4cc8-b983-7677e9ace8e2"
      },
      "execution_count": 53,
      "outputs": [
        {
          "output_type": "execute_result",
          "data": {
            "text/plain": [
              "           X          Y  OBJECTID              INSPECT_DT NOTES  \\\n",
              "0 -89.385608  43.056392         1  2022/03/28 06:00:00+00         \n",
              "1 -89.400704  43.054561         2  2022/04/14 06:00:00+00         \n",
              "2 -89.400715  43.054586         3  2022/04/21 06:00:00+00         \n",
              "3 -89.426085  43.069691         4  2022/05/13 06:00:00+00         \n",
              "4 -89.426276  43.070574         5  2022/05/13 06:00:00+00         \n",
              "\n",
              "                 INV_DATE            UNIQUEID                SPP_COM  \\\n",
              "0  2022/03/28 06:00:00+00  MaEr20220328123551  Honeylocust 'Skyline'   \n",
              "1  2022/04/14 06:00:00+00  AaLe20220414144625      American Basswood   \n",
              "2  2022/04/21 06:00:00+00  CrKl20220421085020      American Basswood   \n",
              "3  2007/08/28 06:00:00+00         Tree_000001           Norway Maple   \n",
              "4  2007/08/28 06:00:00+00         Tree_000011      American Basswood   \n",
              "\n",
              "                           SPP_BOT GSSIZE  DIAMETER  STATUS TREEGUARD  \\\n",
              "0  Gleditsia triacanthos 'Skyline'  6'-7'       4.0  Active             \n",
              "1                  Tilia americana    NaN      -2.0  Active             \n",
              "2                  Tilia americana    NaN      12.0  Active             \n",
              "3                 Acer platanoides  5'-6'      22.0  Active             \n",
              "4                  Tilia americana  5'-6'      11.0  Active             \n",
              "\n",
              "   GRATE_SPP  \n",
              "0        NaN  \n",
              "1        NaN  \n",
              "2        NaN  \n",
              "3        NaN  \n",
              "4        NaN  "
            ],
            "text/html": [
              "\n",
              "  <div id=\"df-3a19a7a7-cded-4241-b0c0-7ec3e8e723ff\" class=\"colab-df-container\">\n",
              "    <div>\n",
              "<style scoped>\n",
              "    .dataframe tbody tr th:only-of-type {\n",
              "        vertical-align: middle;\n",
              "    }\n",
              "\n",
              "    .dataframe tbody tr th {\n",
              "        vertical-align: top;\n",
              "    }\n",
              "\n",
              "    .dataframe thead th {\n",
              "        text-align: right;\n",
              "    }\n",
              "</style>\n",
              "<table border=\"1\" class=\"dataframe\">\n",
              "  <thead>\n",
              "    <tr style=\"text-align: right;\">\n",
              "      <th></th>\n",
              "      <th>X</th>\n",
              "      <th>Y</th>\n",
              "      <th>OBJECTID</th>\n",
              "      <th>INSPECT_DT</th>\n",
              "      <th>NOTES</th>\n",
              "      <th>INV_DATE</th>\n",
              "      <th>UNIQUEID</th>\n",
              "      <th>SPP_COM</th>\n",
              "      <th>SPP_BOT</th>\n",
              "      <th>GSSIZE</th>\n",
              "      <th>DIAMETER</th>\n",
              "      <th>STATUS</th>\n",
              "      <th>TREEGUARD</th>\n",
              "      <th>GRATE_SPP</th>\n",
              "    </tr>\n",
              "  </thead>\n",
              "  <tbody>\n",
              "    <tr>\n",
              "      <th>0</th>\n",
              "      <td>-89.385608</td>\n",
              "      <td>43.056392</td>\n",
              "      <td>1</td>\n",
              "      <td>2022/03/28 06:00:00+00</td>\n",
              "      <td></td>\n",
              "      <td>2022/03/28 06:00:00+00</td>\n",
              "      <td>MaEr20220328123551</td>\n",
              "      <td>Honeylocust 'Skyline'</td>\n",
              "      <td>Gleditsia triacanthos 'Skyline'</td>\n",
              "      <td>6'-7'</td>\n",
              "      <td>4.0</td>\n",
              "      <td>Active</td>\n",
              "      <td></td>\n",
              "      <td>NaN</td>\n",
              "    </tr>\n",
              "    <tr>\n",
              "      <th>1</th>\n",
              "      <td>-89.400704</td>\n",
              "      <td>43.054561</td>\n",
              "      <td>2</td>\n",
              "      <td>2022/04/14 06:00:00+00</td>\n",
              "      <td></td>\n",
              "      <td>2022/04/14 06:00:00+00</td>\n",
              "      <td>AaLe20220414144625</td>\n",
              "      <td>American Basswood</td>\n",
              "      <td>Tilia americana</td>\n",
              "      <td>NaN</td>\n",
              "      <td>-2.0</td>\n",
              "      <td>Active</td>\n",
              "      <td></td>\n",
              "      <td>NaN</td>\n",
              "    </tr>\n",
              "    <tr>\n",
              "      <th>2</th>\n",
              "      <td>-89.400715</td>\n",
              "      <td>43.054586</td>\n",
              "      <td>3</td>\n",
              "      <td>2022/04/21 06:00:00+00</td>\n",
              "      <td></td>\n",
              "      <td>2022/04/21 06:00:00+00</td>\n",
              "      <td>CrKl20220421085020</td>\n",
              "      <td>American Basswood</td>\n",
              "      <td>Tilia americana</td>\n",
              "      <td>NaN</td>\n",
              "      <td>12.0</td>\n",
              "      <td>Active</td>\n",
              "      <td></td>\n",
              "      <td>NaN</td>\n",
              "    </tr>\n",
              "    <tr>\n",
              "      <th>3</th>\n",
              "      <td>-89.426085</td>\n",
              "      <td>43.069691</td>\n",
              "      <td>4</td>\n",
              "      <td>2022/05/13 06:00:00+00</td>\n",
              "      <td></td>\n",
              "      <td>2007/08/28 06:00:00+00</td>\n",
              "      <td>Tree_000001</td>\n",
              "      <td>Norway Maple</td>\n",
              "      <td>Acer platanoides</td>\n",
              "      <td>5'-6'</td>\n",
              "      <td>22.0</td>\n",
              "      <td>Active</td>\n",
              "      <td></td>\n",
              "      <td>NaN</td>\n",
              "    </tr>\n",
              "    <tr>\n",
              "      <th>4</th>\n",
              "      <td>-89.426276</td>\n",
              "      <td>43.070574</td>\n",
              "      <td>5</td>\n",
              "      <td>2022/05/13 06:00:00+00</td>\n",
              "      <td></td>\n",
              "      <td>2007/08/28 06:00:00+00</td>\n",
              "      <td>Tree_000011</td>\n",
              "      <td>American Basswood</td>\n",
              "      <td>Tilia americana</td>\n",
              "      <td>5'-6'</td>\n",
              "      <td>11.0</td>\n",
              "      <td>Active</td>\n",
              "      <td></td>\n",
              "      <td>NaN</td>\n",
              "    </tr>\n",
              "  </tbody>\n",
              "</table>\n",
              "</div>\n",
              "    <div class=\"colab-df-buttons\">\n",
              "\n",
              "  <div class=\"colab-df-container\">\n",
              "    <button class=\"colab-df-convert\" onclick=\"convertToInteractive('df-3a19a7a7-cded-4241-b0c0-7ec3e8e723ff')\"\n",
              "            title=\"Convert this dataframe to an interactive table.\"\n",
              "            style=\"display:none;\">\n",
              "\n",
              "  <svg xmlns=\"http://www.w3.org/2000/svg\" height=\"24px\" viewBox=\"0 -960 960 960\">\n",
              "    <path d=\"M120-120v-720h720v720H120Zm60-500h600v-160H180v160Zm220 220h160v-160H400v160Zm0 220h160v-160H400v160ZM180-400h160v-160H180v160Zm440 0h160v-160H620v160ZM180-180h160v-160H180v160Zm440 0h160v-160H620v160Z\"/>\n",
              "  </svg>\n",
              "    </button>\n",
              "\n",
              "  <style>\n",
              "    .colab-df-container {\n",
              "      display:flex;\n",
              "      gap: 12px;\n",
              "    }\n",
              "\n",
              "    .colab-df-convert {\n",
              "      background-color: #E8F0FE;\n",
              "      border: none;\n",
              "      border-radius: 50%;\n",
              "      cursor: pointer;\n",
              "      display: none;\n",
              "      fill: #1967D2;\n",
              "      height: 32px;\n",
              "      padding: 0 0 0 0;\n",
              "      width: 32px;\n",
              "    }\n",
              "\n",
              "    .colab-df-convert:hover {\n",
              "      background-color: #E2EBFA;\n",
              "      box-shadow: 0px 1px 2px rgba(60, 64, 67, 0.3), 0px 1px 3px 1px rgba(60, 64, 67, 0.15);\n",
              "      fill: #174EA6;\n",
              "    }\n",
              "\n",
              "    .colab-df-buttons div {\n",
              "      margin-bottom: 4px;\n",
              "    }\n",
              "\n",
              "    [theme=dark] .colab-df-convert {\n",
              "      background-color: #3B4455;\n",
              "      fill: #D2E3FC;\n",
              "    }\n",
              "\n",
              "    [theme=dark] .colab-df-convert:hover {\n",
              "      background-color: #434B5C;\n",
              "      box-shadow: 0px 1px 3px 1px rgba(0, 0, 0, 0.15);\n",
              "      filter: drop-shadow(0px 1px 2px rgba(0, 0, 0, 0.3));\n",
              "      fill: #FFFFFF;\n",
              "    }\n",
              "  </style>\n",
              "\n",
              "    <script>\n",
              "      const buttonEl =\n",
              "        document.querySelector('#df-3a19a7a7-cded-4241-b0c0-7ec3e8e723ff button.colab-df-convert');\n",
              "      buttonEl.style.display =\n",
              "        google.colab.kernel.accessAllowed ? 'block' : 'none';\n",
              "\n",
              "      async function convertToInteractive(key) {\n",
              "        const element = document.querySelector('#df-3a19a7a7-cded-4241-b0c0-7ec3e8e723ff');\n",
              "        const dataTable =\n",
              "          await google.colab.kernel.invokeFunction('convertToInteractive',\n",
              "                                                    [key], {});\n",
              "        if (!dataTable) return;\n",
              "\n",
              "        const docLinkHtml = 'Like what you see? Visit the ' +\n",
              "          '<a target=\"_blank\" href=https://colab.research.google.com/notebooks/data_table.ipynb>data table notebook</a>'\n",
              "          + ' to learn more about interactive tables.';\n",
              "        element.innerHTML = '';\n",
              "        dataTable['output_type'] = 'display_data';\n",
              "        await google.colab.output.renderOutput(dataTable, element);\n",
              "        const docLink = document.createElement('div');\n",
              "        docLink.innerHTML = docLinkHtml;\n",
              "        element.appendChild(docLink);\n",
              "      }\n",
              "    </script>\n",
              "  </div>\n",
              "\n",
              "\n",
              "<div id=\"df-6794da7b-4f14-4e03-97b8-789f6b47a86a\">\n",
              "  <button class=\"colab-df-quickchart\" onclick=\"quickchart('df-6794da7b-4f14-4e03-97b8-789f6b47a86a')\"\n",
              "            title=\"Suggest charts.\"\n",
              "            style=\"display:none;\">\n",
              "\n",
              "<svg xmlns=\"http://www.w3.org/2000/svg\" height=\"24px\"viewBox=\"0 0 24 24\"\n",
              "     width=\"24px\">\n",
              "    <g>\n",
              "        <path d=\"M19 3H5c-1.1 0-2 .9-2 2v14c0 1.1.9 2 2 2h14c1.1 0 2-.9 2-2V5c0-1.1-.9-2-2-2zM9 17H7v-7h2v7zm4 0h-2V7h2v10zm4 0h-2v-4h2v4z\"/>\n",
              "    </g>\n",
              "</svg>\n",
              "  </button>\n",
              "\n",
              "<style>\n",
              "  .colab-df-quickchart {\n",
              "      --bg-color: #E8F0FE;\n",
              "      --fill-color: #1967D2;\n",
              "      --hover-bg-color: #E2EBFA;\n",
              "      --hover-fill-color: #174EA6;\n",
              "      --disabled-fill-color: #AAA;\n",
              "      --disabled-bg-color: #DDD;\n",
              "  }\n",
              "\n",
              "  [theme=dark] .colab-df-quickchart {\n",
              "      --bg-color: #3B4455;\n",
              "      --fill-color: #D2E3FC;\n",
              "      --hover-bg-color: #434B5C;\n",
              "      --hover-fill-color: #FFFFFF;\n",
              "      --disabled-bg-color: #3B4455;\n",
              "      --disabled-fill-color: #666;\n",
              "  }\n",
              "\n",
              "  .colab-df-quickchart {\n",
              "    background-color: var(--bg-color);\n",
              "    border: none;\n",
              "    border-radius: 50%;\n",
              "    cursor: pointer;\n",
              "    display: none;\n",
              "    fill: var(--fill-color);\n",
              "    height: 32px;\n",
              "    padding: 0;\n",
              "    width: 32px;\n",
              "  }\n",
              "\n",
              "  .colab-df-quickchart:hover {\n",
              "    background-color: var(--hover-bg-color);\n",
              "    box-shadow: 0 1px 2px rgba(60, 64, 67, 0.3), 0 1px 3px 1px rgba(60, 64, 67, 0.15);\n",
              "    fill: var(--button-hover-fill-color);\n",
              "  }\n",
              "\n",
              "  .colab-df-quickchart-complete:disabled,\n",
              "  .colab-df-quickchart-complete:disabled:hover {\n",
              "    background-color: var(--disabled-bg-color);\n",
              "    fill: var(--disabled-fill-color);\n",
              "    box-shadow: none;\n",
              "  }\n",
              "\n",
              "  .colab-df-spinner {\n",
              "    border: 2px solid var(--fill-color);\n",
              "    border-color: transparent;\n",
              "    border-bottom-color: var(--fill-color);\n",
              "    animation:\n",
              "      spin 1s steps(1) infinite;\n",
              "  }\n",
              "\n",
              "  @keyframes spin {\n",
              "    0% {\n",
              "      border-color: transparent;\n",
              "      border-bottom-color: var(--fill-color);\n",
              "      border-left-color: var(--fill-color);\n",
              "    }\n",
              "    20% {\n",
              "      border-color: transparent;\n",
              "      border-left-color: var(--fill-color);\n",
              "      border-top-color: var(--fill-color);\n",
              "    }\n",
              "    30% {\n",
              "      border-color: transparent;\n",
              "      border-left-color: var(--fill-color);\n",
              "      border-top-color: var(--fill-color);\n",
              "      border-right-color: var(--fill-color);\n",
              "    }\n",
              "    40% {\n",
              "      border-color: transparent;\n",
              "      border-right-color: var(--fill-color);\n",
              "      border-top-color: var(--fill-color);\n",
              "    }\n",
              "    60% {\n",
              "      border-color: transparent;\n",
              "      border-right-color: var(--fill-color);\n",
              "    }\n",
              "    80% {\n",
              "      border-color: transparent;\n",
              "      border-right-color: var(--fill-color);\n",
              "      border-bottom-color: var(--fill-color);\n",
              "    }\n",
              "    90% {\n",
              "      border-color: transparent;\n",
              "      border-bottom-color: var(--fill-color);\n",
              "    }\n",
              "  }\n",
              "</style>\n",
              "\n",
              "  <script>\n",
              "    async function quickchart(key) {\n",
              "      const quickchartButtonEl =\n",
              "        document.querySelector('#' + key + ' button');\n",
              "      quickchartButtonEl.disabled = true;  // To prevent multiple clicks.\n",
              "      quickchartButtonEl.classList.add('colab-df-spinner');\n",
              "      try {\n",
              "        const charts = await google.colab.kernel.invokeFunction(\n",
              "            'suggestCharts', [key], {});\n",
              "      } catch (error) {\n",
              "        console.error('Error during call to suggestCharts:', error);\n",
              "      }\n",
              "      quickchartButtonEl.classList.remove('colab-df-spinner');\n",
              "      quickchartButtonEl.classList.add('colab-df-quickchart-complete');\n",
              "    }\n",
              "    (() => {\n",
              "      let quickchartButtonEl =\n",
              "        document.querySelector('#df-6794da7b-4f14-4e03-97b8-789f6b47a86a button');\n",
              "      quickchartButtonEl.style.display =\n",
              "        google.colab.kernel.accessAllowed ? 'block' : 'none';\n",
              "    })();\n",
              "  </script>\n",
              "</div>\n",
              "    </div>\n",
              "  </div>\n"
            ]
          },
          "metadata": {},
          "execution_count": 53
        }
      ]
    },
    {
      "cell_type": "markdown",
      "source": [
        "1.2 What fraction of trees are oak or elm? Elms and oaks are those trees where their Species Common Name, the \"SPP_COM\" column, contains either \"elm\" or \"oak\", ignoring case. Exclude from that analysis those trees that are in column Species Common Name listed as \"other, unknown\", \"various\", \"stump\", \" \" (white space), and \"repl to be determined\", once again, ignoring case."
      ],
      "metadata": {
        "id": "mwLoGi7dvZxf"
      }
    },
    {
      "cell_type": "code",
      "source": [
        "\n",
        "def clean_data(df: pd.DataFrame) -> pd.DataFrame:\n",
        "  \"\"\"\n",
        "  Cleans the unwanted values from the dataframe\n",
        "  Returns a cleaned dataframe\n",
        "  \"\"\"\n",
        "  # convert column to string, then to lowercase\n",
        "  df[\"SPP_COM_str\"] = df.SPP_COM.astype(str)\n",
        "\n",
        "  df[\"SPP_COM_str\"] = df.SPP_COM.str.lower()\n",
        "\n",
        "  # a mask to filter rows with unwanted values\n",
        "  mask = ((df.SPP_COM_str != \"other\") & (df.SPP_COM_str != \"unknown\") & (df.SPP_COM_str != \" \")\n",
        "  & (df.SPP_COM_str != \"various\") & (df.SPP_COM_str != \"stump\") &\n",
        "        (df.SPP_COM_str != \"repl to be determined\"))\n",
        "\n",
        "  # Apply the mask to filter out the unwanted values\n",
        "  clean_df = df[mask]\n",
        "\n",
        "  return clean_df\n",
        "\n",
        "\n",
        "def count_species(df: pd.DataFrame, name : str) -> int:\n",
        "  \"\"\"\n",
        "  Counts the number of species in a columns containing keyword (name)\n",
        "  Returns total number of species in column\n",
        "  \"\"\"\n",
        "  tree_count = 0\n",
        "  for species in df.SPP_COM_str:\n",
        "    if name in species:\n",
        "      tree_count += 1\n",
        "\n",
        "  return tree_count\n",
        "\n",
        "df_filtered = clean_data(df)\n",
        "\n",
        "print(df_filtered.SPP_COM_str)\n",
        "# get count of oak and elm trees\n",
        "oak_trees = count_species(df_filtered, 'oak')\n",
        "elm_trees = count_species(df_filtered, 'elm')\n",
        "\n",
        "total = elm_trees + oak_trees\n",
        "\n",
        "print(total / 76878)\n",
        "\n"
      ],
      "metadata": {
        "colab": {
          "base_uri": "https://localhost:8080/"
        },
        "id": "3-2aQrWVGFf5",
        "outputId": "f66e6d06-bfe0-4b61-8a18-62da33eec3cd"
      },
      "execution_count": 55,
      "outputs": [
        {
          "output_type": "stream",
          "name": "stdout",
          "text": [
            "0                     honeylocust 'skyline'\n",
            "1                         american basswood\n",
            "2                         american basswood\n",
            "3                              norway maple\n",
            "4                         american basswood\n",
            "                        ...                \n",
            "76888                   kentucky coffeetree\n",
            "76889                     elm spp. (hybrid)\n",
            "76890    japanese tree lilac 'ivory pillar'\n",
            "76891                               bur oak\n",
            "76892                            apple spp.\n",
            "Name: SPP_COM_str, Length: 76878, dtype: object\n",
            "0.07578240849137595\n"
          ]
        }
      ]
    },
    {
      "cell_type": "code",
      "source": [
        "import pandas as pd\n",
        "import numpy as np\n",
        "\n",
        "# Constants for conversions\n",
        "km_to_miles = 0.621371\n",
        "km_to_feet = 3280.84\n",
        "\n",
        "# Radius of the Earth in kilometers\n",
        "earth_radius_km = 6371.0\n",
        "\n",
        "# Function to calculate haversine distance between two sets of latitude and longitude\n",
        "def haversine(lat1, lon1, lat2, lon2):\n",
        "    lat1, lon1, lat2, lon2 = map(np.radians, [lat1, lon1, lat2, lon2])\n",
        "    dlat = lat2 - lat1\n",
        "    dlon = lon2 - lon1\n",
        "    a = np.sin(dlat/2)**2 + np.cos(lat1) * np.cos(lat2) * np.sin(dlon/2)**2\n",
        "    c = 2 * np.arctan2(np.sqrt(a), np.sqrt(1-a))\n",
        "    distance_km = earth_radius_km * c\n",
        "    return distance_km\n",
        "\n",
        "# Filter for Norway Maple and Red Maple trees\n",
        "norway_maples = df[df['SPP_COM'] == 'Norway Maple']\n",
        "red_maples = df[df['SPP_COM'] == 'Red Maple']\n",
        "\n",
        "# Initialize an array to store distances\n",
        "distances_km = []\n",
        "\n",
        "# Calculate distances using haversine formula\n",
        "for norway_maple_row in norway_maples.itertuples():\n",
        "    for red_maple_row in red_maples.itertuples():\n",
        "        distance = haversine(norway_maple_row.Y, norway_maple_row.X, red_maple_row.Y, red_maple_row.X)\n",
        "        distances_km.append(distance)\n",
        "\n",
        "# Convert distances from kilometers to feet\n",
        "distances_feet = np.array(distances_km) * km_to_feet\n",
        "\n",
        "# Reshape the distances array to match the number of Norway Maples\n",
        "distances_feet = distances_feet.reshape(len(norway_maples), -1)\n",
        "\n",
        "# Find the minimum distance for each Norway Maple\n",
        "min_distances_feet = np.min(distances_feet, axis=1)\n",
        "\n",
        "# Calculate the median distance in feet\n",
        "median_distance_feet = np.median(min_distances_feet)\n",
        "\n",
        "# Convert the median distance from feet to miles\n",
        "median_distance_miles = median_distance_feet / 5280.0  # 1 mile = 5280 feet\n",
        "\n",
        "# Print the result\n",
        "print(f\"Median Distance from Each Norway Maple to Closest Red Maple: {median_distance_feet:.2f} feet\")\n",
        "print(f\"Median Distance from Each Norway Maple to Closest Red Maple: {median_distance_miles:.2f} miles\")"
      ],
      "metadata": {
        "id": "d14YU6fLGufJ"
      },
      "execution_count": null,
      "outputs": []
    },
    {
      "cell_type": "markdown",
      "source": [
        "How does growth space size vary across tree species? You'll notice the growth space size column, \"GSSIZE\", is really a range. E.g., \"4' - 5'\". For entries that are ranges, use the middle point of the lower and upper range, e.g., 4.5 feet for the previous example. If the entry only has a lower range, just use the value of the lower range. Ignore trees where the growth space size entry does not represent a number. For each species, using the Species Common Name, calculate the average growth space size. Report the standard deviation of these averages. Keep the measurement in feet. Exclude species with less than 50 trees from the analysis."
      ],
      "metadata": {
        "id": "LZK0I0Ps1uiY"
      }
    },
    {
      "cell_type": "code",
      "source": [
        "'\n",
        "# drop null values\n",
        "df_1 = df[['SPP_COM', 'GSSIZE']].dropna()\n",
        "\n",
        "# convert GSS column to a string\n",
        "df_1['GSSize']  = df_1.GSSIZE.astype(str)\n",
        "\n",
        "# declare non-numerical values used to filter the dataframe\n",
        "conditions = ((df_1.GSSize != 'Open') & (df_1.GSSize != 'Median') &\n",
        "(df_1.GSSize != ' ') & (df_1.GSSize != 'Boxout') & (df_1.GSSize != 'Grate')\n",
        "& (df_1.GSSize != 'No Data') & (df_1.GSSize != 'Ditch'))\n",
        "\n",
        "# filter the dataframe using the above conditions\n",
        "df_2 = df_1[conditions]\n",
        "\n",
        "\n",
        "# calculate the value counts of the common name attribute\n",
        "value_counts = df_2['SPP_COM'].value_counts()\n",
        "\n",
        "# minimum value to filter by\n",
        "min_value = 50\n",
        "\n",
        "mask = df_2['SPP_COM'].isin(value_counts[value_counts >= min_value].index)\n",
        "\n",
        "# apply the mask to drop species who's tree count is less than 50\n",
        "df_3 = df_2[mask]\n",
        "\n",
        "df_3 = df_3.drop(\"GSSIZE\", axis = 'columns')\n",
        "\n",
        "\"---------------------------------------------------------\"\n",
        "\n",
        "def average_of_value_range(val_str):\n",
        "\n",
        "    if val_str == \"8'+\":\n",
        "      val_str = int(val_str[0].strip(\" '\"))\n",
        "      return val_str\n",
        "    # Split the value range string on the '-' character\n",
        "    parts = val_str.split('-')\n",
        "\n",
        "    # Convert the lower and upper bounds to integers\n",
        "    lower = int(parts[0].strip(\" '\"))\n",
        "    upper = int(parts[1].strip(\" '\"))\n",
        "\n",
        "    # Calculate the median of the value range\n",
        "    return (lower + upper) / 2.0\n",
        "\n",
        "\n",
        "df_3['Averages'] = df_3['GSSize'].apply(average_of_value_range)\n",
        "\n",
        "std_dev = df_3['Averages'].std()\n",
        "print(std_dev)'\n",
        "\n"
      ],
      "metadata": {
        "colab": {
          "base_uri": "https://localhost:8080/"
        },
        "id": "HOYuXp-6u2HZ",
        "outputId": "88276631-94ad-4242-e74c-8b9090058245"
      },
      "execution_count": 14,
      "outputs": [
        {
          "output_type": "stream",
          "name": "stdout",
          "text": [
            "0.971669345824498\n"
          ]
        }
      ]
    },
    {
      "cell_type": "markdown",
      "source": [
        "1.5 What fraction of last inspections occur on the 2nd most frequent day of the week?"
      ],
      "metadata": {
        "id": "esKyfmnBE4Vy"
      }
    },
    {
      "cell_type": "code",
      "source": [
        "\n",
        "\"\"\"\n",
        "What frequency of last inspections occur on the 2nd most frequent day of the week\n",
        "\"\"\"\n",
        "\n",
        "\n",
        "\n",
        "def get_most_frequent_day(df: pd.DataFrame, attribute) -> float:\n",
        "  \"\"\"Returns second most frequent day of the week\"\"\"\n",
        "\n",
        "\n",
        "  df[attribute] = pd.to_datetime(df[attribute])\n",
        "\n",
        "  # extract day from the inspection date\n",
        "  df['Day'] = df[attribute].dt.day_name()\n",
        "\n",
        "  # find the frequency of inspection on each day of the week\n",
        "  frequencies = df['Day'].value_counts()\n",
        "\n",
        "  return round(2823 / 76893, 3)\n",
        "\n",
        "get_most_frequent_day(df, 'INSPECT_DT')\n"
      ],
      "metadata": {
        "colab": {
          "base_uri": "https://localhost:8080/"
        },
        "id": "wE8jjzKSu8RY",
        "outputId": "4ba8ba58-1c93-44e5-e09d-66cf72516514"
      },
      "execution_count": 56,
      "outputs": [
        {
          "output_type": "execute_result",
          "data": {
            "text/plain": [
              "0.037"
            ]
          },
          "metadata": {},
          "execution_count": 56
        }
      ]
    },
    {
      "cell_type": "markdown",
      "source": [
        "1.6 Is there a trend between tree diameter and tree height? While we don't have tree height in our data set, a second data set has tree height measurements in meters in the column \"TreeHt (m)\". Using a tree's scientific name (not their common name), calculate the average diameter and height for each tree species. You'll have to do some cleaning of the scientific names, only keep the first two words in the columns of the scientific names. From the average height and diameter for each species, fit a line of best fit. The x\n",
        " coordinate should be the diameter and the y\n",
        " coordinate should be the height. Report the slope. You can assume the diameter is measured in inches and perform your analysis using inches. Use the fact that there are 39.3701 inches in a meter."
      ],
      "metadata": {
        "id": "xJsIoBAZfUIv"
      }
    },
    {
      "cell_type": "code",
      "source": [],
      "metadata": {
        "id": "al9OJzclfVYb"
      },
      "execution_count": null,
      "outputs": []
    }
  ]
}